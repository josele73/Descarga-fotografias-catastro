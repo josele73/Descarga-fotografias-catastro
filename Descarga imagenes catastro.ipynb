{
 "cells": [
  {
   "cell_type": "code",
   "execution_count": null,
   "metadata": {},
   "outputs": [],
   "source": [
    "import urllib.request"
   ]
  },
  {
   "cell_type": "code",
   "execution_count": null,
   "metadata": {},
   "outputs": [],
   "source": [
    "#Leemos el fichero\n",
    "with open('referencias.txt') as f:\n",
    "    contents = f.readlines()\n",
    "#Primera referencia\n",
    "print(contents[0])\n",
    "#Numero total de refrecias\n",
    "len(contents)"
   ]
  },
  {
   "cell_type": "code",
   "execution_count": null,
   "metadata": {},
   "outputs": [],
   "source": [
    "ref = []\n",
    "#recortamos la refrencia a 14 digitos. En ocasiones inclutye salto de linea\n",
    "for n in contents:\n",
    "    ref.append(n[0:14]) # el final de la linea lleva \\n"
   ]
  },
  {
   "cell_type": "code",
   "execution_count": null,
   "metadata": {
    "scrolled": true
   },
   "outputs": [],
   "source": [
    "#Descargamos las imagenes el formato jpg en el directorio /img\n",
    "for r in ref:\n",
    "    web = 'http://ovc.catastro.meh.es/OVCServWeb/OVCWcfLibres/OVCFotoFachada.svc/RecuperarFotoFachadaGet?ReferenciaCatastral='\n",
    "    #enlace a la imagen a descargar\n",
    "    enlace = web + r\n",
    "    #ruta y nombre del fichero a guardar\n",
    "    imagen = 'img/' + r + '.jpg'\n",
    "    #descargamos la imagen y la guardamos\n",
    "    urllib.request.urlretrieve(enlace,imagen)\n",
    "    \n",
    "print(\"Proceso finalizado\")"
   ]
  },
  {
   "cell_type": "code",
   "execution_count": null,
   "metadata": {},
   "outputs": [],
   "source": []
  }
 ],
 "metadata": {
  "kernelspec": {
   "display_name": "Python 3",
   "language": "python",
   "name": "python3"
  },
  "language_info": {
   "codemirror_mode": {
    "name": "ipython",
    "version": 3
   },
   "file_extension": ".py",
   "mimetype": "text/x-python",
   "name": "python",
   "nbconvert_exporter": "python",
   "pygments_lexer": "ipython3",
   "version": "3.7.4"
  }
 },
 "nbformat": 4,
 "nbformat_minor": 2
}
