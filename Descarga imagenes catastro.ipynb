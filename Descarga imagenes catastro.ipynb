{
 "cells": [
  {
   "cell_type": "code",
   "execution_count": 5,
   "metadata": {},
   "outputs": [],
   "source": [
    "import urllib.request"
   ]
  },
  {
   "cell_type": "code",
   "execution_count": 6,
   "metadata": {},
   "outputs": [
    {
     "name": "stdout",
     "output_type": "stream",
     "text": [
      "000102100XH93E\n",
      "\n"
     ]
    },
    {
     "data": {
      "text/plain": [
       "864"
      ]
     },
     "execution_count": 6,
     "metadata": {},
     "output_type": "execute_result"
    }
   ],
   "source": [
    "#Leemos el fichero\n",
    "with open('referencias.txt') as f:\n",
    "    contents = f.readlines()\n",
    "#Primera referencia\n",
    "print(contents[0])\n",
    "#Numero total de referencias\n",
    "len(contents)"
   ]
  },
  {
   "cell_type": "code",
   "execution_count": 7,
   "metadata": {},
   "outputs": [],
   "source": [
    "ref = []\n",
    "#recortamos la referencia a 14 digitos. En ocasiones inclutye salto de linea\n",
    "for n in contents:\n",
    "    ref.append(n[0:14]) # el final de la linea lleva \\n"
   ]
  },
  {
   "cell_type": "code",
   "execution_count": 8,
   "metadata": {},
   "outputs": [
    {
     "name": "stderr",
     "output_type": "stream",
     "text": [
      "Descargando imágenes: 100%|██████████████████████████████████████████████████████████| 864/864 [33:52<00:00,  2.35s/it]"
     ]
    },
    {
     "name": "stdout",
     "output_type": "stream",
     "text": [
      "Proceso finalizado\n"
     ]
    },
    {
     "name": "stderr",
     "output_type": "stream",
     "text": [
      "\n"
     ]
    }
   ],
   "source": [
    "from tqdm import tqdm\n",
    "import time\n",
    "\n",
    "# Número máximo de peticiones por hora (3600 peticiones). Con 7200/hora el catastro bloquea las descargas 4 horas\n",
    "limite_peticiones = 4000\n",
    "# Tiempo en segundos por hora\n",
    "segundos_por_hora = 3600\n",
    "# Tiempo de espera entre peticiones (en segundos)\n",
    "tiempo_espera = segundos_por_hora / limite_peticiones\n",
    "\n",
    "# Descargamos las imágenes en formato jpg en el directorio /img\n",
    "for r in tqdm(ref, desc=\"Descargando imágenes\"):\n",
    "    web = 'http://ovc.catastro.meh.es/OVCServWeb/OVCWcfLibres/OVCFotoFachada.svc/RecuperarFotoFachadaGet?ReferenciaCatastral='\n",
    "\n",
    "    # Enlace a la imagen a descargar\n",
    "    enlace = web + r\n",
    "    # Ruta y nombre del fichero a guardar\n",
    "    imagen = 'img/' + r + '.jpg'\n",
    "    \n",
    "    # Descargamos la imagen y la guardamos\n",
    "    urllib.request.urlretrieve(enlace, imagen)\n",
    "    \n",
    "    # Esperamos el tiempo necesario para cumplir el límite de peticiones por hora\n",
    "    time.sleep(tiempo_espera)\n",
    "\n",
    "print(\"Proceso finalizado\")\n"
   ]
  },
  {
   "cell_type": "code",
   "execution_count": null,
   "metadata": {},
   "outputs": [],
   "source": []
  },
  {
   "cell_type": "code",
   "execution_count": null,
   "metadata": {},
   "outputs": [],
   "source": []
  }
 ],
 "metadata": {
  "kernelspec": {
   "display_name": "Python 3 (ipykernel)",
   "language": "python",
   "name": "python3"
  },
  "language_info": {
   "codemirror_mode": {
    "name": "ipython",
    "version": 3
   },
   "file_extension": ".py",
   "mimetype": "text/x-python",
   "name": "python",
   "nbconvert_exporter": "python",
   "pygments_lexer": "ipython3",
   "version": "3.9.12"
  }
 },
 "nbformat": 4,
 "nbformat_minor": 2
}
